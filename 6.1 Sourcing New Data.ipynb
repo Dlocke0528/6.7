{
 "cells": [
  {
   "cell_type": "code",
   "execution_count": 65,
   "id": "cbc5a6a6",
   "metadata": {},
   "outputs": [],
   "source": [
    "# Import libraries\n",
    "import pandas as pd\n",
    "import numpy as np\n",
    "import os"
   ]
  },
  {
   "cell_type": "code",
   "execution_count": 66,
   "id": "b152492a",
   "metadata": {},
   "outputs": [],
   "source": [
    "df_orig = pd.read_csv(r\"C:\\Users\\danie\\Desktop\\Dan\\Career Foundry\\Achievement Six\\Netflix Movies and Shows\\imdb_movies_shows.csv\")"
   ]
  },
  {
   "cell_type": "code",
   "execution_count": 67,
   "id": "a46ecace",
   "metadata": {},
   "outputs": [],
   "source": [
    "path = r\"C:\\Users\\danie\\Desktop\\Dan\\Career Foundry\\Achievement Six\\Netflix Movies and Shows\\imdb_movies_shows.csv\""
   ]
  },
  {
   "cell_type": "code",
   "execution_count": 68,
   "id": "d3db8015",
   "metadata": {},
   "outputs": [
    {
     "data": {
      "text/plain": [
       "'C:\\\\Users\\\\danie\\\\Desktop\\\\Dan\\\\Career Foundry\\\\Achievement Six\\\\Netflix Movies and Shows\\\\imdb_movies_shows.csv'"
      ]
     },
     "execution_count": 68,
     "metadata": {},
     "output_type": "execute_result"
    }
   ],
   "source": [
    "path"
   ]
  },
  {
   "cell_type": "code",
   "execution_count": 69,
   "id": "c8b924a4",
   "metadata": {},
   "outputs": [
    {
     "name": "stdout",
     "output_type": "stream",
     "text": [
      "<class 'pandas.core.frame.DataFrame'>\n",
      "RangeIndex: 5558 entries, 0 to 5557\n",
      "Data columns (total 12 columns):\n",
      " #   Column                Non-Null Count  Dtype  \n",
      "---  ------                --------------  -----  \n",
      " 0   title                 5558 non-null   object \n",
      " 1   type                  5558 non-null   object \n",
      " 2   release_year          5558 non-null   int64  \n",
      " 3   age_certification     3109 non-null   object \n",
      " 4   runtime               5558 non-null   int64  \n",
      " 5   genres                5558 non-null   object \n",
      " 6   production_countries  5558 non-null   object \n",
      " 7   full name             5532 non-null   object \n",
      " 8   seasons               1965 non-null   float64\n",
      " 9   imdb_id               5159 non-null   object \n",
      " 10  imdb_score            5099 non-null   float64\n",
      " 11  imdb_votes            5085 non-null   float64\n",
      "dtypes: float64(3), int64(2), object(7)\n",
      "memory usage: 521.2+ KB\n"
     ]
    }
   ],
   "source": [
    "df_orig.info()"
   ]
  },
  {
   "cell_type": "code",
   "execution_count": 70,
   "id": "3ec4b8f3",
   "metadata": {},
   "outputs": [
    {
     "data": {
      "text/html": [
       "<div>\n",
       "<style scoped>\n",
       "    .dataframe tbody tr th:only-of-type {\n",
       "        vertical-align: middle;\n",
       "    }\n",
       "\n",
       "    .dataframe tbody tr th {\n",
       "        vertical-align: top;\n",
       "    }\n",
       "\n",
       "    .dataframe thead th {\n",
       "        text-align: right;\n",
       "    }\n",
       "</style>\n",
       "<table border=\"1\" class=\"dataframe\">\n",
       "  <thead>\n",
       "    <tr style=\"text-align: right;\">\n",
       "      <th></th>\n",
       "      <th>release_year</th>\n",
       "      <th>runtime</th>\n",
       "      <th>seasons</th>\n",
       "      <th>imdb_score</th>\n",
       "      <th>imdb_votes</th>\n",
       "    </tr>\n",
       "  </thead>\n",
       "  <tbody>\n",
       "    <tr>\n",
       "      <th>count</th>\n",
       "      <td>5558.000000</td>\n",
       "      <td>5558.000000</td>\n",
       "      <td>1965.000000</td>\n",
       "      <td>5099.000000</td>\n",
       "      <td>5.085000e+03</td>\n",
       "    </tr>\n",
       "    <tr>\n",
       "      <th>mean</th>\n",
       "      <td>2015.904282</td>\n",
       "      <td>78.424973</td>\n",
       "      <td>2.197455</td>\n",
       "      <td>6.543813</td>\n",
       "      <td>2.422150e+04</td>\n",
       "    </tr>\n",
       "    <tr>\n",
       "      <th>std</th>\n",
       "      <td>7.403668</td>\n",
       "      <td>39.566588</td>\n",
       "      <td>2.673452</td>\n",
       "      <td>1.149223</td>\n",
       "      <td>8.857135e+04</td>\n",
       "    </tr>\n",
       "    <tr>\n",
       "      <th>min</th>\n",
       "      <td>1945.000000</td>\n",
       "      <td>0.000000</td>\n",
       "      <td>1.000000</td>\n",
       "      <td>1.600000</td>\n",
       "      <td>5.000000e+00</td>\n",
       "    </tr>\n",
       "    <tr>\n",
       "      <th>25%</th>\n",
       "      <td>2015.000000</td>\n",
       "      <td>45.000000</td>\n",
       "      <td>1.000000</td>\n",
       "      <td>5.800000</td>\n",
       "      <td>5.790000e+02</td>\n",
       "    </tr>\n",
       "    <tr>\n",
       "      <th>50%</th>\n",
       "      <td>2018.000000</td>\n",
       "      <td>86.000000</td>\n",
       "      <td>1.000000</td>\n",
       "      <td>6.600000</td>\n",
       "      <td>2.471000e+03</td>\n",
       "    </tr>\n",
       "    <tr>\n",
       "      <th>75%</th>\n",
       "      <td>2020.000000</td>\n",
       "      <td>105.000000</td>\n",
       "      <td>2.000000</td>\n",
       "      <td>7.400000</td>\n",
       "      <td>1.077600e+04</td>\n",
       "    </tr>\n",
       "    <tr>\n",
       "      <th>max</th>\n",
       "      <td>2022.000000</td>\n",
       "      <td>251.000000</td>\n",
       "      <td>42.000000</td>\n",
       "      <td>9.500000</td>\n",
       "      <td>2.268288e+06</td>\n",
       "    </tr>\n",
       "  </tbody>\n",
       "</table>\n",
       "</div>"
      ],
      "text/plain": [
       "       release_year      runtime      seasons   imdb_score    imdb_votes\n",
       "count   5558.000000  5558.000000  1965.000000  5099.000000  5.085000e+03\n",
       "mean    2015.904282    78.424973     2.197455     6.543813  2.422150e+04\n",
       "std        7.403668    39.566588     2.673452     1.149223  8.857135e+04\n",
       "min     1945.000000     0.000000     1.000000     1.600000  5.000000e+00\n",
       "25%     2015.000000    45.000000     1.000000     5.800000  5.790000e+02\n",
       "50%     2018.000000    86.000000     1.000000     6.600000  2.471000e+03\n",
       "75%     2020.000000   105.000000     2.000000     7.400000  1.077600e+04\n",
       "max     2022.000000   251.000000    42.000000     9.500000  2.268288e+06"
      ]
     },
     "execution_count": 70,
     "metadata": {},
     "output_type": "execute_result"
    }
   ],
   "source": [
    "df_orig.describe()"
   ]
  },
  {
   "cell_type": "code",
   "execution_count": 71,
   "id": "fdcf027c",
   "metadata": {},
   "outputs": [
    {
     "data": {
      "text/html": [
       "<div>\n",
       "<style scoped>\n",
       "    .dataframe tbody tr th:only-of-type {\n",
       "        vertical-align: middle;\n",
       "    }\n",
       "\n",
       "    .dataframe tbody tr th {\n",
       "        vertical-align: top;\n",
       "    }\n",
       "\n",
       "    .dataframe thead th {\n",
       "        text-align: right;\n",
       "    }\n",
       "</style>\n",
       "<table border=\"1\" class=\"dataframe\">\n",
       "  <thead>\n",
       "    <tr style=\"text-align: right;\">\n",
       "      <th></th>\n",
       "      <th>title</th>\n",
       "      <th>type</th>\n",
       "      <th>release_year</th>\n",
       "      <th>age_certification</th>\n",
       "      <th>runtime</th>\n",
       "      <th>genres</th>\n",
       "      <th>production_countries</th>\n",
       "      <th>full name</th>\n",
       "      <th>seasons</th>\n",
       "      <th>imdb_id</th>\n",
       "      <th>imdb_score</th>\n",
       "      <th>imdb_votes</th>\n",
       "    </tr>\n",
       "  </thead>\n",
       "  <tbody>\n",
       "    <tr>\n",
       "      <th>0</th>\n",
       "      <td>Five Came Back: The Reference Films</td>\n",
       "      <td>SHOW</td>\n",
       "      <td>1945</td>\n",
       "      <td>TV-MA</td>\n",
       "      <td>48</td>\n",
       "      <td>['documentation']</td>\n",
       "      <td>['US']</td>\n",
       "      <td>United States of America (the)</td>\n",
       "      <td>1.0</td>\n",
       "      <td>NaN</td>\n",
       "      <td>NaN</td>\n",
       "      <td>NaN</td>\n",
       "    </tr>\n",
       "    <tr>\n",
       "      <th>1</th>\n",
       "      <td>Taxi Driver</td>\n",
       "      <td>MOVIE</td>\n",
       "      <td>1976</td>\n",
       "      <td>R</td>\n",
       "      <td>113</td>\n",
       "      <td>['crime', 'drama']</td>\n",
       "      <td>['US']</td>\n",
       "      <td>United States of America (the)</td>\n",
       "      <td>NaN</td>\n",
       "      <td>tt0075314</td>\n",
       "      <td>8.3</td>\n",
       "      <td>795222.0</td>\n",
       "    </tr>\n",
       "    <tr>\n",
       "      <th>2</th>\n",
       "      <td>Monty Python and the Holy Grail</td>\n",
       "      <td>MOVIE</td>\n",
       "      <td>1975</td>\n",
       "      <td>PG</td>\n",
       "      <td>91</td>\n",
       "      <td>['comedy', 'fantasy']</td>\n",
       "      <td>['GB']</td>\n",
       "      <td>United Kingdom of Great Britain and Northern I...</td>\n",
       "      <td>NaN</td>\n",
       "      <td>tt0071853</td>\n",
       "      <td>8.2</td>\n",
       "      <td>530877.0</td>\n",
       "    </tr>\n",
       "    <tr>\n",
       "      <th>3</th>\n",
       "      <td>Life of Brian</td>\n",
       "      <td>MOVIE</td>\n",
       "      <td>1979</td>\n",
       "      <td>R</td>\n",
       "      <td>94</td>\n",
       "      <td>['comedy']</td>\n",
       "      <td>['GB']</td>\n",
       "      <td>United Kingdom of Great Britain and Northern I...</td>\n",
       "      <td>NaN</td>\n",
       "      <td>tt0079470</td>\n",
       "      <td>8.0</td>\n",
       "      <td>392419.0</td>\n",
       "    </tr>\n",
       "    <tr>\n",
       "      <th>4</th>\n",
       "      <td>The Exorcist</td>\n",
       "      <td>MOVIE</td>\n",
       "      <td>1973</td>\n",
       "      <td>R</td>\n",
       "      <td>133</td>\n",
       "      <td>['horror']</td>\n",
       "      <td>['US']</td>\n",
       "      <td>United States of America (the)</td>\n",
       "      <td>NaN</td>\n",
       "      <td>tt0070047</td>\n",
       "      <td>8.1</td>\n",
       "      <td>391942.0</td>\n",
       "    </tr>\n",
       "  </tbody>\n",
       "</table>\n",
       "</div>"
      ],
      "text/plain": [
       "                                 title   type  release_year age_certification  \\\n",
       "0  Five Came Back: The Reference Films   SHOW          1945             TV-MA   \n",
       "1                          Taxi Driver  MOVIE          1976                 R   \n",
       "2      Monty Python and the Holy Grail  MOVIE          1975                PG   \n",
       "3                        Life of Brian  MOVIE          1979                 R   \n",
       "4                         The Exorcist  MOVIE          1973                 R   \n",
       "\n",
       "   runtime                 genres production_countries  \\\n",
       "0       48      ['documentation']               ['US']   \n",
       "1      113     ['crime', 'drama']               ['US']   \n",
       "2       91  ['comedy', 'fantasy']               ['GB']   \n",
       "3       94             ['comedy']               ['GB']   \n",
       "4      133             ['horror']               ['US']   \n",
       "\n",
       "                                           full name  seasons    imdb_id  \\\n",
       "0                     United States of America (the)      1.0        NaN   \n",
       "1                     United States of America (the)      NaN  tt0075314   \n",
       "2  United Kingdom of Great Britain and Northern I...      NaN  tt0071853   \n",
       "3  United Kingdom of Great Britain and Northern I...      NaN  tt0079470   \n",
       "4                     United States of America (the)      NaN  tt0070047   \n",
       "\n",
       "   imdb_score  imdb_votes  \n",
       "0         NaN         NaN  \n",
       "1         8.3    795222.0  \n",
       "2         8.2    530877.0  \n",
       "3         8.0    392419.0  \n",
       "4         8.1    391942.0  "
      ]
     },
     "execution_count": 71,
     "metadata": {},
     "output_type": "execute_result"
    }
   ],
   "source": [
    "df_orig.head()"
   ]
  },
  {
   "cell_type": "code",
   "execution_count": 72,
   "id": "a900d5ea",
   "metadata": {},
   "outputs": [],
   "source": [
    "#looking for duplicates\n",
    "df_dups = df_orig[df_orig.duplicated()]"
   ]
  },
  {
   "cell_type": "code",
   "execution_count": 73,
   "id": "3ce599a3",
   "metadata": {},
   "outputs": [
    {
     "data": {
      "text/html": [
       "<div>\n",
       "<style scoped>\n",
       "    .dataframe tbody tr th:only-of-type {\n",
       "        vertical-align: middle;\n",
       "    }\n",
       "\n",
       "    .dataframe tbody tr th {\n",
       "        vertical-align: top;\n",
       "    }\n",
       "\n",
       "    .dataframe thead th {\n",
       "        text-align: right;\n",
       "    }\n",
       "</style>\n",
       "<table border=\"1\" class=\"dataframe\">\n",
       "  <thead>\n",
       "    <tr style=\"text-align: right;\">\n",
       "      <th></th>\n",
       "      <th>title</th>\n",
       "      <th>type</th>\n",
       "      <th>release_year</th>\n",
       "      <th>age_certification</th>\n",
       "      <th>runtime</th>\n",
       "      <th>genres</th>\n",
       "      <th>production_countries</th>\n",
       "      <th>full name</th>\n",
       "      <th>seasons</th>\n",
       "      <th>imdb_id</th>\n",
       "      <th>imdb_score</th>\n",
       "      <th>imdb_votes</th>\n",
       "    </tr>\n",
       "  </thead>\n",
       "  <tbody>\n",
       "  </tbody>\n",
       "</table>\n",
       "</div>"
      ],
      "text/plain": [
       "Empty DataFrame\n",
       "Columns: [title, type, release_year, age_certification, runtime, genres, production_countries, full name, seasons, imdb_id, imdb_score, imdb_votes]\n",
       "Index: []"
      ]
     },
     "execution_count": 73,
     "metadata": {},
     "output_type": "execute_result"
    }
   ],
   "source": [
    "df_dups"
   ]
  },
  {
   "cell_type": "code",
   "execution_count": 74,
   "id": "3a8322c7",
   "metadata": {},
   "outputs": [
    {
     "data": {
      "text/plain": [
       "title                      0\n",
       "type                       0\n",
       "release_year               0\n",
       "age_certification       2449\n",
       "runtime                    0\n",
       "genres                     0\n",
       "production_countries       0\n",
       "full name                 26\n",
       "seasons                 3593\n",
       "imdb_id                  399\n",
       "imdb_score               459\n",
       "imdb_votes               473\n",
       "dtype: int64"
      ]
     },
     "execution_count": 74,
     "metadata": {},
     "output_type": "execute_result"
    }
   ],
   "source": [
    "df_orig.isnull().sum()"
   ]
  },
  {
   "cell_type": "markdown",
   "id": "6926add2",
   "metadata": {},
   "source": [
    "The NaN do not need to be filled since they are mostly tied to each others counterpart. seasons is tied to shows, meaning the NaN is reflected in Movies."
   ]
  },
  {
   "cell_type": "code",
   "execution_count": 80,
   "id": "d50313e2",
   "metadata": {},
   "outputs": [],
   "source": [
    "# drop columns (imdb_id)\n",
    "df_orig.drop(columns = ['imdb_id'], inplace = True)"
   ]
  },
  {
   "cell_type": "code",
   "execution_count": 83,
   "id": "52b97033",
   "metadata": {},
   "outputs": [],
   "source": [
    "# drop columns (imdb_id)\n",
    "df_orig.drop(columns = ['age_certification'], inplace = True)"
   ]
  },
  {
   "cell_type": "code",
   "execution_count": 84,
   "id": "a2cae271",
   "metadata": {},
   "outputs": [
    {
     "data": {
      "text/plain": [
       "title                      0\n",
       "type                       0\n",
       "release_year               0\n",
       "runtime                    0\n",
       "genres                     0\n",
       "production_countries       0\n",
       "full name                 26\n",
       "seasons                 3593\n",
       "imdb_score               459\n",
       "imdb_votes               473\n",
       "dtype: int64"
      ]
     },
     "execution_count": 84,
     "metadata": {},
     "output_type": "execute_result"
    }
   ],
   "source": [
    "df_orig.isnull().sum()"
   ]
  },
  {
   "cell_type": "code",
   "execution_count": 82,
   "id": "cb6804b2",
   "metadata": {},
   "outputs": [
    {
     "data": {
      "text/plain": [
       "(5558, 11)"
      ]
     },
     "execution_count": 82,
     "metadata": {},
     "output_type": "execute_result"
    }
   ],
   "source": [
    "df_orig.shape "
   ]
  },
  {
   "cell_type": "code",
   "execution_count": 78,
   "id": "56484a08",
   "metadata": {},
   "outputs": [],
   "source": [
    "df_orig.to_csv(path+\"2nd_prep_data.csv\")"
   ]
  },
  {
   "cell_type": "markdown",
   "id": "e7639738",
   "metadata": {},
   "source": [
    "Im going to focus on Shows only"
   ]
  }
 ],
 "metadata": {
  "kernelspec": {
   "display_name": "Python 3 (ipykernel)",
   "language": "python",
   "name": "python3"
  },
  "language_info": {
   "codemirror_mode": {
    "name": "ipython",
    "version": 3
   },
   "file_extension": ".py",
   "mimetype": "text/x-python",
   "name": "python",
   "nbconvert_exporter": "python",
   "pygments_lexer": "ipython3",
   "version": "3.11.3"
  }
 },
 "nbformat": 4,
 "nbformat_minor": 5
}
